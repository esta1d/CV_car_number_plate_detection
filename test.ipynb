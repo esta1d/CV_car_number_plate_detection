{
 "cells": [
  {
   "cell_type": "code",
   "execution_count": 1,
   "id": "5663501f",
   "metadata": {},
   "outputs": [
    {
     "name": "stdout",
     "output_type": "stream",
     "text": [
      "True\n"
     ]
    }
   ],
   "source": [
    "import os\n",
    "print(os.path.exists('../test/ru5381834.jpg'))  # Должно вывести: True"
   ]
  },
  {
   "cell_type": "code",
   "execution_count": null,
   "id": "3f7ece2c",
   "metadata": {},
   "outputs": [
    {
     "name": "stdout",
     "output_type": "stream",
     "text": [
      "True\n"
     ]
    }
   ],
   "source": [
    "print(os.path.exists('../runs/train/my_yolov5_model_s/weights/best.pt'))"
   ]
  },
  {
   "cell_type": "code",
   "execution_count": 2,
   "id": "7072b180",
   "metadata": {},
   "outputs": [
    {
     "name": "stdout",
     "output_type": "stream",
     "text": [
      "\u001b[34m\u001b[1mdetect: \u001b[0mweights=['runs/train/my_yolov5_model_s/weights/best.pt'], source=test/ru5381834.jpg, data=yolov5/data/coco128.yaml, imgsz=[640, 640], conf_thres=0.25, iou_thres=0.45, max_det=1000, device=, view_img=False, save_txt=False, save_format=0, save_csv=False, save_conf=False, save_crop=False, nosave=False, classes=None, agnostic_nms=False, augment=False, visualize=False, update=False, project=yolov5/runs/detect, name=exp, exist_ok=False, line_thickness=3, hide_labels=False, hide_conf=False, half=False, dnn=False, vid_stride=1\n",
      "YOLOv5 🚀 v7.0-420-g0c99ce80 Python-3.12.11 torch-2.7.1+cu126 CUDA:0 (NVIDIA GeForce RTX 4070 SUPER, 12282MiB)\n",
      "\n",
      "Fusing layers... \n",
      "Model summary: 157 layers, 7012822 parameters, 0 gradients, 15.8 GFLOPs\n",
      "image 1/1 /home/estaid/dev/CV_car_number_plate_detection/test/ru5381834.jpg: 480x640 3 licences, 20.0ms\n",
      "Speed: 0.4ms pre-process, 20.0ms inference, 92.7ms NMS per image at shape (1, 3, 640, 640)\n",
      "Results saved to \u001b[1myolov5/runs/detect/exp2\u001b[0m\n"
     ]
    }
   ],
   "source": [
    "!python yolov5/detect.py --weights runs/train/my_yolov5_model_s/weights/best.pt --img 640 --conf 0.25 --source test/ru5381834.jpg"
   ]
  }
 ],
 "metadata": {
  "kernelspec": {
   "display_name": "CV_learning",
   "language": "python",
   "name": "python3"
  },
  "language_info": {
   "codemirror_mode": {
    "name": "ipython",
    "version": 3
   },
   "file_extension": ".py",
   "mimetype": "text/x-python",
   "name": "python",
   "nbconvert_exporter": "python",
   "pygments_lexer": "ipython3",
   "version": "3.12.11"
  }
 },
 "nbformat": 4,
 "nbformat_minor": 5
}
